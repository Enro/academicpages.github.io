{
 "cells": [
  {
   "cell_type": "markdown",
   "metadata": {},
   "source": [
    "# Leaflet cluster map of talk locations\n",
    "\n",
    "Run this from the _talks/ directory, which contains .md files of all your talks. This scrapes the location YAML field from each .md file, geolocates it with geopy/Nominatim, and uses the getorg library to output data, HTML, and Javascript for a standalone cluster map."
   ]
  },
  {
   "cell_type": "code",
   "execution_count": 1,
   "metadata": {},
   "outputs": [
    {
     "name": "stdout",
     "output_type": "stream",
     "text": [
      "Requirement already up-to-date: getorg in /anaconda2/lib/python2.7/site-packages\n",
      "Requirement already up-to-date: pygithub in /anaconda2/lib/python2.7/site-packages (from getorg)\n",
      "Requirement already up-to-date: retrying in /anaconda2/lib/python2.7/site-packages (from getorg)\n",
      "Requirement already up-to-date: geopy in /anaconda2/lib/python2.7/site-packages (from getorg)\n",
      "Requirement already up-to-date: pyjwt in /anaconda2/lib/python2.7/site-packages (from pygithub->getorg)\n",
      "Requirement already up-to-date: six>=1.7.0 in /anaconda2/lib/python2.7/site-packages (from retrying->getorg)\n",
      "\u001b[33mYou are using pip version 9.0.1, however version 9.0.2 is available.\n",
      "You should consider upgrading via the 'pip install --upgrade pip' command.\u001b[0m\n",
      "IPywidgets and ipyleaflet support enabled.\n"
     ]
    }
   ],
   "source": [
    "!pip install getorg --upgrade\n",
    "import glob\n",
    "import getorg\n",
    "from geopy import Nominatim"
   ]
  },
  {
   "cell_type": "code",
   "execution_count": 2,
   "metadata": {},
   "outputs": [],
   "source": [
    "g = glob.glob(\"*.md\")"
   ]
  },
  {
   "cell_type": "code",
   "execution_count": 3,
   "metadata": {},
   "outputs": [],
   "source": [
    "geocoder = Nominatim()\n",
    "location_dict = {}\n",
    "location = \"\"\n",
    "permalink = \"\"\n",
    "title = \"\""
   ]
  },
  {
   "cell_type": "code",
   "execution_count": 4,
   "metadata": {},
   "outputs": [
    {
     "name": "stdout",
     "output_type": "stream",
     "text": [
      "('Berder, France', '\\n', Location((47.57883085, -2.88806493191, 0.0)))\n",
      "('Lisbon, Portugal', '\\n', Location((38.7077507, -9.1365919, 0.0)))\n",
      "('Aiguablava, Spain', '\\n', Location((41.9339473, 3.2182091, 0.0)))\n",
      "('Edinburgh, Great-Britain', '\\n', Location((55.9495628, -3.1914972, 0.0)))\n",
      "('Mezzocorona, Italy', '\\n', Location((46.2154357, 11.1207858, 0.0)))\n",
      "('Plasencia, Spain', '\\n', Location((40.0302938, -6.0902595, 0.0)))\n",
      "('Evry, France', '\\n', Location((48.6345313, 2.4522217, 0.0)))\n",
      "('San Diego, USA', '\\n', Location((32.7174209, -117.1627714, 0.0)))\n",
      "('Ullensvang, Norway', '\\n', Location((60.3243218, 6.6595734, 0.0)))\n",
      "('Ullensvang, Norway', '\\n', Location((60.3243218, 6.6595734, 0.0)))\n",
      "('Clermont-Ferrand, France', '\\n', Location((45.7774551, 3.0819427, 0.0)))\n",
      "('Bologna, Italy', '\\n', Location((44.4936714, 11.3430347, 0.0)))\n",
      "('Montpellier, France', '\\n', Location((43.6112422, 3.8767337, 0.0)))\n",
      "('San Diego, United States', '\\n', Location((32.7174209, -117.1627714, 0.0)))\n",
      "('San Diego, United States', '\\n', Location((32.7174209, -117.1627714, 0.0)))\n",
      "('San Diego, United States', '\\n', Location((32.7174209, -117.1627714, 0.0)))\n",
      "('San Diego, United States', '\\n', Location((32.7174209, -117.1627714, 0.0)))\n"
     ]
    }
   ],
   "source": [
    "\n",
    "for file in g:\n",
    "    with open(file, 'r') as f:\n",
    "        lines = f.read()\n",
    "        if lines.find('location: \"') > 1:\n",
    "            loc_start = lines.find('location: \"') + 11\n",
    "            lines_trim = lines[loc_start:]\n",
    "            loc_end = lines_trim.find('\"')\n",
    "            location = lines_trim[:loc_end]\n",
    "                            \n",
    "           \n",
    "        location_dict[location] = geocoder.geocode(location)\n",
    "        print(location, \"\\n\", location_dict[location])\n"
   ]
  },
  {
   "cell_type": "code",
   "execution_count": 5,
   "metadata": {},
   "outputs": [
    {
     "data": {
      "text/plain": [
       "'Written map to ../talkmap/'"
      ]
     },
     "execution_count": 5,
     "metadata": {},
     "output_type": "execute_result"
    }
   ],
   "source": [
    "m = getorg.orgmap.create_map_obj()\n",
    "getorg.orgmap.output_html_cluster_map(location_dict, folder_name=\"../talkmap\", hashed_usernames=False)"
   ]
  },
  {
   "cell_type": "code",
   "execution_count": null,
   "metadata": {},
   "outputs": [],
   "source": []
  },
  {
   "cell_type": "code",
   "execution_count": null,
   "metadata": {},
   "outputs": [],
   "source": []
  }
 ],
 "metadata": {
  "anaconda-cloud": {},
  "kernelspec": {
   "display_name": "Python 2",
   "language": "python",
   "name": "python2"
  },
  "language_info": {
   "codemirror_mode": {
    "name": "ipython",
    "version": 2
   },
   "file_extension": ".py",
   "mimetype": "text/x-python",
   "name": "python",
   "nbconvert_exporter": "python",
   "pygments_lexer": "ipython2",
   "version": "2.7.14"
  }
 },
 "nbformat": 4,
 "nbformat_minor": 1
}
